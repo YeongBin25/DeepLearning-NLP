{
 "cells": [
  {
   "cell_type": "markdown",
   "id": "c22d9690",
   "metadata": {},
   "source": [
    "<h2>08) 원-핫 인코딩(One-Hot Encoding)</h2>"
   ]
  },
  {
   "cell_type": "markdown",
   "id": "51640a31",
   "metadata": {},
   "source": [
    "<p>\n",
    "    컴퓨터 또는 기계는 문자보다는 숫자를 더 잘 처리한다.<br>\n",
    "    문자를 숫자로 바꾸는 여러가지 기법중 하나이다. <br>\n",
    "    단어를 표현하는 가장 기본적인 표현 방법이다.\n",
    "</p>"
   ]
  },
  {
   "cell_type": "markdown",
   "id": "b78da19b",
   "metadata": {},
   "source": [
    "<b>\n",
    "    1. 각 단어에 고유한 인덱스를 부여합니다 (정수 인코딩)<br>\n",
    "    2. 표현하고 싶은 단어의 인덱스의 위치에 1을 부여하고, 다른 단어의 인덱스의 위치에는 0을 부여합니다.\n",
    "</b>"
   ]
  },
  {
   "cell_type": "markdown",
   "id": "da7db1e2",
   "metadata": {},
   "source": [
    "<b>8.1) 한국어 문장의 원-핫 인코딩</b>"
   ]
  },
  {
   "cell_type": "code",
   "execution_count": 1,
   "id": "5d777d27",
   "metadata": {},
   "outputs": [
    {
     "name": "stdout",
     "output_type": "stream",
     "text": [
      "['나', '는', '자연어', '처리', '를', '배운다']\n"
     ]
    }
   ],
   "source": [
    "from konlpy.tag import Okt\n",
    "okt = Okt()\n",
    "token = okt.morphs(\"나는 자연어 처리를 배운다\")\n",
    "print(token)"
   ]
  },
  {
   "cell_type": "markdown",
   "id": "f67b6ce2",
   "metadata": {},
   "source": [
    "<b>8.2) 코엔엘파이의 Qkt 형태소 분석기를 통해서 우선 문장 토큰화 수행</b>"
   ]
  },
  {
   "cell_type": "code",
   "execution_count": 2,
   "id": "a4cf3a64",
   "metadata": {},
   "outputs": [
    {
     "name": "stdout",
     "output_type": "stream",
     "text": [
      "{'나': 0, '는': 1, '자연어': 2, '처리': 3, '를': 4, '배운다': 5}\n"
     ]
    }
   ],
   "source": [
    "word2index={}\n",
    "for voca in token:\n",
    "    if voca not in word2index.keys():\n",
    "        word2index[voca]=len(word2index)\n",
    "print(word2index)"
   ]
  },
  {
   "cell_type": "code",
   "execution_count": 5,
   "id": "7baedf35",
   "metadata": {},
   "outputs": [],
   "source": [
    "def one_hot_encoding(word, word2index):\n",
    "    one_hot_vector = [0]*(len(word2index))\n",
    "    index=word2index[word]\n",
    "    one_hot_vector[index]=1\n",
    "    return one_hot_vector"
   ]
  },
  {
   "cell_type": "code",
   "execution_count": 6,
   "id": "8fb6850f",
   "metadata": {},
   "outputs": [
    {
     "data": {
      "text/plain": [
       "[0, 0, 1, 0, 0, 0]"
      ]
     },
     "execution_count": 6,
     "metadata": {},
     "output_type": "execute_result"
    }
   ],
   "source": [
    "one_hot_encoding(\"자연어\", word2index)"
   ]
  },
  {
   "cell_type": "markdown",
   "id": "29aa47ee",
   "metadata": {},
   "source": [
    "<h3>2. 케라스를 이용한 원-핫 인코딩</h3>"
   ]
  },
  {
   "cell_type": "code",
   "execution_count": 7,
   "id": "bec3b854",
   "metadata": {},
   "outputs": [],
   "source": [
    "text=\"나랑 점심 먹으러 갈래 점심 메뉴는 햄버거 갈래 갈래 햄버거 최고야\""
   ]
  },
  {
   "cell_type": "code",
   "execution_count": 8,
   "id": "af916cb5",
   "metadata": {},
   "outputs": [
    {
     "name": "stdout",
     "output_type": "stream",
     "text": [
      "{'갈래': 1, '점심': 2, '햄버거': 3, '나랑': 4, '먹으러': 5, '메뉴는': 6, '최고야': 7}\n"
     ]
    }
   ],
   "source": [
    "from tensorflow.keras.preprocessing.text import Tokenizer\n",
    "from tensorflow.keras.utils import to_categorical\n",
    "\n",
    "text=\"나랑 점심 먹으러 갈래 점심 메뉴는 햄버거 갈래 갈래 햄버거 최고야\"\n",
    "\n",
    "t = Tokenizer()\n",
    "t.fit_on_texts([text])\n",
    "print(t.word_index) # 각 단어에 대한 인코딩 결과 출력"
   ]
  },
  {
   "cell_type": "markdown",
   "id": "a971bbb6",
   "metadata": {},
   "source": [
    "<b>위와 같이 생성된 단어 집합에 있는 단어들로만 구성된 텍스트가 있다면,\n",
    "    texts_to_sequences()를 통해서 이를 정수 시퀀스로 변환가능합니다.\n",
    "<br></b>"
   ]
  },
  {
   "cell_type": "code",
   "execution_count": 10,
   "id": "31a2ae7e",
   "metadata": {},
   "outputs": [
    {
     "name": "stdout",
     "output_type": "stream",
     "text": [
      "[2, 5, 1, 6, 3, 7]\n"
     ]
    }
   ],
   "source": [
    "sub_text = \"점심 먹으러 갈래 메뉴는 햄버거 최고야\"\n",
    "encoded = t.texts_to_sequences([sub_text])[0]\n",
    "print(encoded)"
   ]
  },
  {
   "cell_type": "markdown",
   "id": "b571e735",
   "metadata": {},
   "source": [
    "<b>이제 해당 결과를 가지고 원-핫 인코딩 진행</b>"
   ]
  },
  {
   "cell_type": "code",
   "execution_count": 11,
   "id": "6a5e0856",
   "metadata": {},
   "outputs": [
    {
     "name": "stdout",
     "output_type": "stream",
     "text": [
      "[[0. 0. 1. 0. 0. 0. 0. 0.]\n",
      " [0. 0. 0. 0. 0. 1. 0. 0.]\n",
      " [0. 1. 0. 0. 0. 0. 0. 0.]\n",
      " [0. 0. 0. 0. 0. 0. 1. 0.]\n",
      " [0. 0. 0. 1. 0. 0. 0. 0.]\n",
      " [0. 0. 0. 0. 0. 0. 0. 1.]]\n"
     ]
    }
   ],
   "source": [
    "one_hot = to_categorical(encoded)\n",
    "print(one_hot)"
   ]
  },
  {
   "cell_type": "code",
   "execution_count": null,
   "id": "db239db7",
   "metadata": {},
   "outputs": [],
   "source": []
  }
 ],
 "metadata": {
  "kernelspec": {
   "display_name": "Python 3",
   "language": "python",
   "name": "python3"
  },
  "language_info": {
   "codemirror_mode": {
    "name": "ipython",
    "version": 3
   },
   "file_extension": ".py",
   "mimetype": "text/x-python",
   "name": "python",
   "nbconvert_exporter": "python",
   "pygments_lexer": "ipython3",
   "version": "3.8.10"
  }
 },
 "nbformat": 4,
 "nbformat_minor": 5
}
