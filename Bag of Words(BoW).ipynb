{
 "cells": [
  {
   "cell_type": "markdown",
   "id": "fa64dff9",
   "metadata": {},
   "source": [
    "<h2>2) Bag of Words(BoW)</h2>"
   ]
  },
  {
   "cell_type": "markdown",
   "id": "0fece05b",
   "metadata": {},
   "source": [
    "<h3>1. Bag of Words란?</h3>"
   ]
  },
  {
   "cell_type": "markdown",
   "id": "c7b0f3ac",
   "metadata": {},
   "source": [
    "<p>단어들의 순서는 전혀 고려하지 않고, 출현 빈도에만 집중하는 텍스트 데이터 수치화 표현방법</p>"
   ]
  },
  {
   "cell_type": "markdown",
   "id": "f6e1f1b7",
   "metadata": {},
   "source": [
    "<h4>BoW를 만드는 두 가지 과정</h4>\n",
    "<p>(1) 우선, 각 단어에 고유한 정수 인덱스를 부여합니다.</p>\n",
    "<p>(2) 각 인덱스의 위치에 단어 토큰의 등장 횟수를 기록한 벡터를 만듭니다."
   ]
  },
  {
   "cell_type": "markdown",
   "id": "5d09d6ef",
   "metadata": {},
   "source": [
    "<b>문서1 : 정부가 발표하는 물가상승률과 소비자가 느끼는 물가상승률은 다르다.</b>"
   ]
  },
  {
   "cell_type": "markdown",
   "id": "a9741d67",
   "metadata": {},
   "source": [
    "<p>위의 문서1에 대해서 BoW를 만들어보도록 하겠습니다. <br>\n",
    "아래 코드는 입력된 문서에 대해서 단어 집합을 만들어 인덱스를 할당하고, BoW를 만드는 코드입니다.</p>"
   ]
  },
  {
   "cell_type": "code",
   "execution_count": 5,
   "id": "598e9068",
   "metadata": {},
   "outputs": [],
   "source": [
    "from konlpy.tag import Okt\n",
    "import re\n",
    "okt=Okt()"
   ]
  },
  {
   "cell_type": "code",
   "execution_count": 7,
   "id": "109ea851",
   "metadata": {},
   "outputs": [],
   "source": [
    "token=re.sub(\"(\\.)\",\"\",\"정부가 발표하는 물가상승률과 소비자가 느끼는 물가상승률은 다르다.\") "
   ]
  },
  {
   "cell_type": "code",
   "execution_count": 8,
   "id": "b71b544c",
   "metadata": {},
   "outputs": [],
   "source": [
    "# 정규 표현식을 통해 온점을 제거하는 정제 작업입니다.\n",
    "token=okt.morphs(token)\n",
    "# OKT 형태소 분석기를 통해 토큰화 작업을 수행한 뒤에, token에다가 넣습니다."
   ]
  },
  {
   "cell_type": "code",
   "execution_count": 11,
   "id": "64f03db9",
   "metadata": {},
   "outputs": [
    {
     "name": "stdout",
     "output_type": "stream",
     "text": [
      "{'정부': 0, '가': 1, '발표': 2, '하는': 3, '물가상승률': 4, '과': 5, '소비자': 6, '느끼는': 7, '은': 8, '다르다': 9}\n"
     ]
    }
   ],
   "source": [
    "word2index={}  \n",
    "bow=[]  \n",
    "for voca in token:  \n",
    "         if voca not in word2index.keys():  \n",
    "             word2index[voca]=len(word2index)  \n",
    "# token을 읽으면서, word2index에 없는 (not in) 단어는 새로 추가하고, 이미 있는 단어는 넘깁니다.   \n",
    "             bow.insert(len(word2index)-1,1)\n",
    "# BoW 전체에 전부 기본값 1을 넣어줍니다. 단어의 개수는 최소 1개 이상이기 때문입니다.  \n",
    "         else:\n",
    "            index=word2index.get(voca)\n",
    "# 재등장하는 단어의 인덱스를 받아옵니다.\n",
    "            bow[index]=bow[index]+1\n",
    "# 재등장한 단어는 해당하는 인덱스의 위치에 1을 더해줍니다. (단어의 개수를 세는 것입니다.)  \n",
    "print(word2index) "
   ]
  },
  {
   "cell_type": "code",
   "execution_count": 12,
   "id": "ce3c42db",
   "metadata": {},
   "outputs": [
    {
     "data": {
      "text/plain": [
       "[1, 2, 1, 1, 2, 1, 1, 1, 1, 1]"
      ]
     },
     "execution_count": 12,
     "metadata": {},
     "output_type": "execute_result"
    }
   ],
   "source": [
    "bow"
   ]
  },
  {
   "cell_type": "markdown",
   "id": "007ea557",
   "metadata": {},
   "source": [
    "<h3>2. Bag of Words의 다른 예제들</h3>"
   ]
  },
  {
   "cell_type": "markdown",
   "id": "5a2f8ac7",
   "metadata": {},
   "source": [
    "<b>BoW에 있어서 중요한 것은 단어의 등장 빈도입니다. <br>\n",
    "단어의 순서 즉, 인덱스의 순서는 전혀 상관없습니다.</b>"
   ]
  },
  {
   "cell_type": "markdown",
   "id": "8be72d39",
   "metadata": {},
   "source": [
    "<b>문서2 : 소비자는 주로 소비하는 상품을 기준으로 물가상승률을 느낀다.</b>"
   ]
  },
  {
   "cell_type": "markdown",
   "id": "efff2c59",
   "metadata": {},
   "source": [
    "<p>위의 코드에 문서2로 입력으로 하여 인덱스 할당과 BoW를 만든느 것을 진행한다면 아래 결과가 나옴</p>"
   ]
  },
  {
   "cell_type": "code",
   "execution_count": 14,
   "id": "c27ab26e",
   "metadata": {},
   "outputs": [],
   "source": [
    "from IPython.display import Image"
   ]
  },
  {
   "cell_type": "code",
   "execution_count": 15,
   "id": "818078fc",
   "metadata": {},
   "outputs": [
    {
     "data": {
      "image/png": "[encoded data removed]",
      "text/plain": [
       "<IPython.core.display.Image object>"
      ]
     },
     "execution_count": 15,
     "metadata": {},
     "output_type": "execute_result"
    }
   ],
   "source": [
    "Image(\"Bag.PNG\")"
   ]
  },
  {
   "cell_type": "markdown",
   "id": "947de324",
   "metadata": {},
   "source": [
    "<p>문서 1과 문서2를 합쳐서 (이를 문서3이라고 명명합시다.)BoW를 만들 수도 있습니다.</p><br>\n",
    "<b>문서3 : 정부가 발표하는 물가상승률과 소비자가 느끼는 물가상승률은 다르다. 소비자는 주로 소비하는 상품을 기준으로 물가상승률을 느낀다.</b>"
   ]
  },
  {
   "cell_type": "markdown",
   "id": "85d1d598",
   "metadata": {},
   "source": [
    "<p>위의 코드에 문서3을 입력으로 하여 인덱스 할당과 BoW를 만든다면 아래와 같은 결과가 나옵니다.</p>"
   ]
  },
  {
   "cell_type": "code",
   "execution_count": 17,
   "id": "4fc32e70",
   "metadata": {},
   "outputs": [
    {
     "data": {
      "image/png": "[encoded data removed]",
      "text/plain": [
       "<IPython.core.display.Image object>"
      ]
     },
     "execution_count": 17,
     "metadata": {},
     "output_type": "execute_result"
    }
   ],
   "source": [
    "Image(\"Bag3.PNG\")"
   ]
  },
  {
   "cell_type": "markdown",
   "id": "6793adb8",
   "metadata": {},
   "source": [
    "<h3>3. CountVectorizer 클래스로 BoW 만들기</h3>"
   ]
  },
  {
   "cell_type": "code",
   "execution_count": 1,
   "id": "519748e9",
   "metadata": {},
   "outputs": [
    {
     "name": "stdout",
     "output_type": "stream",
     "text": [
      "[[1 1 2 1 2 1]]\n",
      "{'you': 4, 'know': 1, 'want': 3, 'your': 5, 'love': 2, 'because': 0}\n"
     ]
    }
   ],
   "source": [
    "from sklearn.feature_extraction.text import CountVectorizer\n",
    "corpus = ['you know I want your love. because I love you.']\n",
    "vector = CountVectorizer()\n",
    "print(vector.fit_transform(corpus).toarray()) # 코퍼스로부터 각 단어의 빈도 수를 기록한다.\n",
    "print(vector.vocabulary_) # 각 단어의 인덱스가 어떻게 부여되었는지를 보여준다."
   ]
  },
  {
   "cell_type": "markdown",
   "id": "8be11fec",
   "metadata": {},
   "source": [
    "<p>예제 문장에서 you와 love는 두 번씩 언급되었으므로 각각 인덱스 2와 인덱스 4에서 2의 값을 가지며, 그 외의 값에서는 1의 값을 가지는 것을 볼 수 있습니다</p>"
   ]
  },
  {
   "cell_type": "markdown",
   "id": "89b280b4",
   "metadata": {},
   "source": [
    "<p>CountVectorizer는 단지 띄어쓰기만을 기준으로 단어를 자르는 낮은 수준의 토큰화를 진행하고 BoW를 만든다는 점이다.</p>"
   ]
  },
  {
   "cell_type": "markdown",
   "id": "f1a19013",
   "metadata": {},
   "source": [
    "<h3>4. 불용어를 제거한 BoW 만들기</h3>"
   ]
  },
  {
   "cell_type": "markdown",
   "id": "a2d718f6",
   "metadata": {},
   "source": [
    "<b>영어의 BoW를 만들기 위해 사용하는 CountVectorizer는 불용어를 지정하면, 불용어는 제외하고 BoW를 만들 수 있도록 불용어 제거 기능을 지원하고 있습니다.</b>"
   ]
  },
  {
   "cell_type": "markdown",
   "id": "20e984bb",
   "metadata": {},
   "source": [
    "<h4>(1) 사용자가 직접 정의한 불용어 사용</h4>"
   ]
  },
  {
   "cell_type": "code",
   "execution_count": 4,
   "id": "40df48c3",
   "metadata": {},
   "outputs": [
    {
     "name": "stdout",
     "output_type": "stream",
     "text": [
      "[[1 1 1 1 1]]\n",
      "{'family': 1, 'important': 2, 'thing': 4, 'it': 3, 'everything': 0}\n"
     ]
    }
   ],
   "source": [
    "from sklearn.feature_extraction.text import CountVectorizer\n",
    "\n",
    "text=[\"Family is not an important thing. It's everything.\"]\n",
    "vect = CountVectorizer(stop_words=[\"the\", \"a\", \"an\", \"is\", \"not\"])\n",
    "print(vect.fit_transform(text).toarray()) \n",
    "print(vect.vocabulary_)"
   ]
  },
  {
   "cell_type": "markdown",
   "id": "5e70fafd",
   "metadata": {},
   "source": [
    "<h4>(2) CountVectorizer에서 제공하는 자체 불용어 사용</h4>"
   ]
  },
  {
   "cell_type": "code",
   "execution_count": 11,
   "id": "96035dbd",
   "metadata": {},
   "outputs": [
    {
     "name": "stdout",
     "output_type": "stream",
     "text": [
      "[[1 1 1]]\n",
      "{'family': 0, 'important': 1, 'thing': 2}\n"
     ]
    }
   ],
   "source": [
    "from sklearn.feature_extraction.text import CountVectorizer\n",
    "\n",
    "text=[\"Family is not an important thing. It's everything.\"]\n",
    "vect = CountVectorizer(stop_words=\"english\")\n",
    "print(vect.fit_transform(text).toarray())\n",
    "print(vect.vocabulary_)"
   ]
  },
  {
   "cell_type": "code",
   "execution_count": null,
   "id": "7d56be15",
   "metadata": {},
   "outputs": [],
   "source": []
  }
 ],
 "metadata": {
  "kernelspec": {
   "display_name": "Python 3",
   "language": "python",
   "name": "python3"
  },
  "language_info": {
   "codemirror_mode": {
    "name": "ipython",
    "version": 3
   },
   "file_extension": ".py",
   "mimetype": "text/x-python",
   "name": "python",
   "nbconvert_exporter": "python",
   "pygments_lexer": "ipython3",
   "version": "3.8.10"
  }
 },
 "nbformat": 4,
 "nbformat_minor": 5
}
